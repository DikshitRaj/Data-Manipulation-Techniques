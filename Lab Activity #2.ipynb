{
 "cells": [
  {
   "cell_type": "code",
   "execution_count": 1,
   "metadata": {},
   "outputs": [],
   "source": [
    " %load_ext sql"
   ]
  },
  {
   "cell_type": "code",
   "execution_count": 2,
   "metadata": {},
   "outputs": [],
   "source": [
    "%sql sqlite://"
   ]
  },
  {
   "cell_type": "code",
   "execution_count": 4,
   "metadata": {},
   "outputs": [
    {
     "name": "stdout",
     "output_type": "stream",
     "text": [
      " * sqlite://\n",
      "Done.\n"
     ]
    },
    {
     "data": {
      "text/plain": [
       "[]"
      ]
     },
     "execution_count": 4,
     "metadata": {},
     "output_type": "execute_result"
    }
   ],
   "source": [
    "%%sql\n",
    "CREATE TABLE SmartPhoneMart(SerialNo int, DeviceName varchar(50), BrandName varchar(50), Battery int, ChargerCapacity int, ChargingPort varchar(50), PrimaryCamera int, DefaultRAM int, DefaultStorage int, Price bigint);"
   ]
  },
  {
   "cell_type": "code",
   "execution_count": 5,
   "metadata": {},
   "outputs": [
    {
     "name": "stdout",
     "output_type": "stream",
     "text": [
      " * sqlite://\n",
      "Done.\n"
     ]
    },
    {
     "data": {
      "text/html": [
       "<table>\n",
       "    <tr>\n",
       "        <th>SerialNo</th>\n",
       "        <th>DeviceName</th>\n",
       "        <th>BrandName</th>\n",
       "        <th>Battery</th>\n",
       "        <th>ChargerCapacity</th>\n",
       "        <th>ChargingPort</th>\n",
       "        <th>PrimaryCamera</th>\n",
       "        <th>DefaultRAM</th>\n",
       "        <th>DefaultStorage</th>\n",
       "        <th>Price</th>\n",
       "    </tr>\n",
       "</table>"
      ],
      "text/plain": [
       "[]"
      ]
     },
     "execution_count": 5,
     "metadata": {},
     "output_type": "execute_result"
    }
   ],
   "source": [
    "%%sql\n",
    "SELECT * FROM SmartPhoneMart"
   ]
  },
  {
   "cell_type": "code",
   "execution_count": 6,
   "metadata": {},
   "outputs": [
    {
     "name": "stdout",
     "output_type": "stream",
     "text": [
      " * sqlite://\n",
      "1 rows affected.\n",
      "1 rows affected.\n",
      "1 rows affected.\n",
      "1 rows affected.\n",
      "1 rows affected.\n",
      "1 rows affected.\n",
      "1 rows affected.\n",
      "1 rows affected.\n",
      "1 rows affected.\n",
      "1 rows affected.\n"
     ]
    },
    {
     "data": {
      "text/plain": [
       "[]"
      ]
     },
     "execution_count": 6,
     "metadata": {},
     "output_type": "execute_result"
    }
   ],
   "source": [
    "%%sql\n",
    "INSERT INTO SmartPhoneMart VALUES(001,'Galaxy A70','Samsung',4500,25,'Type C',32,6,128,23999);  \n",
    "INSERT INTO SmartPhoneMart VALUES(002,'Note 9 Pro','Redmi',5020,18,'Type C',48,4,64,13999);\n",
    "INSERT INTO SmartPhoneMart VALUES(003,'Oneplus Nord','OnePlus',4115,30,'Type C',48,6,64,24999);\n",
    "INSERT INTO SmartPhoneMart VALUES(004,'IPhone SE 2','Apple',1821,18,'Lighting Port',12,3,64,37900);\n",
    "INSERT INTO SmartPhoneMart VALUES(005,'X2 Pro','Realme',4000,50,'Type C',64,6,64,29999);\n",
    "INSERT INTO SmartPhoneMart VALUES(006,'Galaxy M51','Samsung',7000,25,'Type C',64,6,128,24999);\n",
    "INSERT INTO SmartPhoneMart VALUES(007,'ROG Phone 3','Asus',6000,30,'Type C',64,8,128,49999);\n",
    "INSERT INTO SmartPhoneMart VALUES(008,'IPhone 11 Pro max','Apple',3969,18,'Lighting Port',12,4,256,123899);\n",
    "INSERT INTO SmartPhoneMart VALUES(009,'Oneplus 8 Pro','OnePlus',4510,30,'Type C',48,8,128,59999);\n",
    "INSERT INTO SmartPhoneMart VALUES(010,'Pixel 4A','Google',3140,18,'Type C',12,6,128,29999);"
   ]
  },
  {
   "cell_type": "code",
   "execution_count": 7,
   "metadata": {},
   "outputs": [
    {
     "name": "stdout",
     "output_type": "stream",
     "text": [
      " * sqlite://\n",
      "Done.\n"
     ]
    },
    {
     "data": {
      "text/html": [
       "<table>\n",
       "    <tr>\n",
       "        <th>SerialNo</th>\n",
       "        <th>DeviceName</th>\n",
       "        <th>BrandName</th>\n",
       "        <th>Battery</th>\n",
       "        <th>ChargerCapacity</th>\n",
       "        <th>ChargingPort</th>\n",
       "        <th>PrimaryCamera</th>\n",
       "        <th>DefaultRAM</th>\n",
       "        <th>DefaultStorage</th>\n",
       "        <th>Price</th>\n",
       "    </tr>\n",
       "    <tr>\n",
       "        <td>1</td>\n",
       "        <td>Galaxy A70</td>\n",
       "        <td>Samsung</td>\n",
       "        <td>4500</td>\n",
       "        <td>25</td>\n",
       "        <td>Type C</td>\n",
       "        <td>32</td>\n",
       "        <td>6</td>\n",
       "        <td>128</td>\n",
       "        <td>23999</td>\n",
       "    </tr>\n",
       "    <tr>\n",
       "        <td>2</td>\n",
       "        <td>Note 9 Pro</td>\n",
       "        <td>Redmi</td>\n",
       "        <td>5020</td>\n",
       "        <td>18</td>\n",
       "        <td>Type C</td>\n",
       "        <td>48</td>\n",
       "        <td>4</td>\n",
       "        <td>64</td>\n",
       "        <td>13999</td>\n",
       "    </tr>\n",
       "    <tr>\n",
       "        <td>3</td>\n",
       "        <td>Oneplus Nord</td>\n",
       "        <td>OnePlus</td>\n",
       "        <td>4115</td>\n",
       "        <td>30</td>\n",
       "        <td>Type C</td>\n",
       "        <td>48</td>\n",
       "        <td>6</td>\n",
       "        <td>64</td>\n",
       "        <td>24999</td>\n",
       "    </tr>\n",
       "    <tr>\n",
       "        <td>4</td>\n",
       "        <td>IPhone SE 2</td>\n",
       "        <td>Apple</td>\n",
       "        <td>1821</td>\n",
       "        <td>18</td>\n",
       "        <td>Lighting Port</td>\n",
       "        <td>12</td>\n",
       "        <td>3</td>\n",
       "        <td>64</td>\n",
       "        <td>37900</td>\n",
       "    </tr>\n",
       "    <tr>\n",
       "        <td>5</td>\n",
       "        <td>X2 Pro</td>\n",
       "        <td>Realme</td>\n",
       "        <td>4000</td>\n",
       "        <td>50</td>\n",
       "        <td>Type C</td>\n",
       "        <td>64</td>\n",
       "        <td>6</td>\n",
       "        <td>64</td>\n",
       "        <td>29999</td>\n",
       "    </tr>\n",
       "    <tr>\n",
       "        <td>6</td>\n",
       "        <td>Galaxy M51</td>\n",
       "        <td>Samsung</td>\n",
       "        <td>7000</td>\n",
       "        <td>25</td>\n",
       "        <td>Type C</td>\n",
       "        <td>64</td>\n",
       "        <td>6</td>\n",
       "        <td>128</td>\n",
       "        <td>24999</td>\n",
       "    </tr>\n",
       "    <tr>\n",
       "        <td>7</td>\n",
       "        <td>ROG Phone 3</td>\n",
       "        <td>Asus</td>\n",
       "        <td>6000</td>\n",
       "        <td>30</td>\n",
       "        <td>Type C</td>\n",
       "        <td>64</td>\n",
       "        <td>8</td>\n",
       "        <td>128</td>\n",
       "        <td>49999</td>\n",
       "    </tr>\n",
       "    <tr>\n",
       "        <td>8</td>\n",
       "        <td>IPhone 11 Pro max</td>\n",
       "        <td>Apple</td>\n",
       "        <td>3969</td>\n",
       "        <td>18</td>\n",
       "        <td>Lighting Port</td>\n",
       "        <td>12</td>\n",
       "        <td>4</td>\n",
       "        <td>256</td>\n",
       "        <td>123899</td>\n",
       "    </tr>\n",
       "    <tr>\n",
       "        <td>9</td>\n",
       "        <td>Oneplus 8 Pro</td>\n",
       "        <td>OnePlus</td>\n",
       "        <td>4510</td>\n",
       "        <td>30</td>\n",
       "        <td>Type C</td>\n",
       "        <td>48</td>\n",
       "        <td>8</td>\n",
       "        <td>128</td>\n",
       "        <td>59999</td>\n",
       "    </tr>\n",
       "    <tr>\n",
       "        <td>10</td>\n",
       "        <td>Pixel 4A</td>\n",
       "        <td>Google</td>\n",
       "        <td>3140</td>\n",
       "        <td>18</td>\n",
       "        <td>Type C</td>\n",
       "        <td>12</td>\n",
       "        <td>6</td>\n",
       "        <td>128</td>\n",
       "        <td>29999</td>\n",
       "    </tr>\n",
       "</table>"
      ],
      "text/plain": [
       "[(1, 'Galaxy A70', 'Samsung', 4500, 25, 'Type C', 32, 6, 128, 23999),\n",
       " (2, 'Note 9 Pro', 'Redmi', 5020, 18, 'Type C', 48, 4, 64, 13999),\n",
       " (3, 'Oneplus Nord', 'OnePlus', 4115, 30, 'Type C', 48, 6, 64, 24999),\n",
       " (4, 'IPhone SE 2', 'Apple', 1821, 18, 'Lighting Port', 12, 3, 64, 37900),\n",
       " (5, 'X2 Pro', 'Realme', 4000, 50, 'Type C', 64, 6, 64, 29999),\n",
       " (6, 'Galaxy M51', 'Samsung', 7000, 25, 'Type C', 64, 6, 128, 24999),\n",
       " (7, 'ROG Phone 3', 'Asus', 6000, 30, 'Type C', 64, 8, 128, 49999),\n",
       " (8, 'IPhone 11 Pro max', 'Apple', 3969, 18, 'Lighting Port', 12, 4, 256, 123899),\n",
       " (9, 'Oneplus 8 Pro', 'OnePlus', 4510, 30, 'Type C', 48, 8, 128, 59999),\n",
       " (10, 'Pixel 4A', 'Google', 3140, 18, 'Type C', 12, 6, 128, 29999)]"
      ]
     },
     "execution_count": 7,
     "metadata": {},
     "output_type": "execute_result"
    }
   ],
   "source": [
    "%%sql\n",
    "SELECT * FROM SmartPhoneMart"
   ]
  },
  {
   "cell_type": "code",
   "execution_count": 8,
   "metadata": {},
   "outputs": [
    {
     "name": "stdout",
     "output_type": "stream",
     "text": [
      " * sqlite://\n",
      "1 rows affected.\n"
     ]
    },
    {
     "data": {
      "text/plain": [
       "[]"
      ]
     },
     "execution_count": 8,
     "metadata": {},
     "output_type": "execute_result"
    }
   ],
   "source": [
    "%%sql\n",
    "INSERT INTO SmartPhoneMart VALUES(011,'One Fusion Plus','Motorola',5000,18,'Type C',64,6,128,17499)"
   ]
  },
  {
   "cell_type": "code",
   "execution_count": 9,
   "metadata": {},
   "outputs": [
    {
     "name": "stdout",
     "output_type": "stream",
     "text": [
      " * sqlite://\n",
      "Done.\n"
     ]
    },
    {
     "data": {
      "text/html": [
       "<table>\n",
       "    <tr>\n",
       "        <th>SerialNo</th>\n",
       "        <th>DeviceName</th>\n",
       "        <th>BrandName</th>\n",
       "        <th>Battery</th>\n",
       "        <th>ChargerCapacity</th>\n",
       "        <th>ChargingPort</th>\n",
       "        <th>PrimaryCamera</th>\n",
       "        <th>DefaultRAM</th>\n",
       "        <th>DefaultStorage</th>\n",
       "        <th>Price</th>\n",
       "    </tr>\n",
       "    <tr>\n",
       "        <td>1</td>\n",
       "        <td>Galaxy A70</td>\n",
       "        <td>Samsung</td>\n",
       "        <td>4500</td>\n",
       "        <td>25</td>\n",
       "        <td>Type C</td>\n",
       "        <td>32</td>\n",
       "        <td>6</td>\n",
       "        <td>128</td>\n",
       "        <td>23999</td>\n",
       "    </tr>\n",
       "    <tr>\n",
       "        <td>2</td>\n",
       "        <td>Note 9 Pro</td>\n",
       "        <td>Redmi</td>\n",
       "        <td>5020</td>\n",
       "        <td>18</td>\n",
       "        <td>Type C</td>\n",
       "        <td>48</td>\n",
       "        <td>4</td>\n",
       "        <td>64</td>\n",
       "        <td>13999</td>\n",
       "    </tr>\n",
       "    <tr>\n",
       "        <td>3</td>\n",
       "        <td>Oneplus Nord</td>\n",
       "        <td>OnePlus</td>\n",
       "        <td>4115</td>\n",
       "        <td>30</td>\n",
       "        <td>Type C</td>\n",
       "        <td>48</td>\n",
       "        <td>6</td>\n",
       "        <td>64</td>\n",
       "        <td>24999</td>\n",
       "    </tr>\n",
       "    <tr>\n",
       "        <td>4</td>\n",
       "        <td>IPhone SE 2</td>\n",
       "        <td>Apple</td>\n",
       "        <td>1821</td>\n",
       "        <td>18</td>\n",
       "        <td>Lighting Port</td>\n",
       "        <td>12</td>\n",
       "        <td>3</td>\n",
       "        <td>64</td>\n",
       "        <td>37900</td>\n",
       "    </tr>\n",
       "    <tr>\n",
       "        <td>5</td>\n",
       "        <td>X2 Pro</td>\n",
       "        <td>Realme</td>\n",
       "        <td>4000</td>\n",
       "        <td>50</td>\n",
       "        <td>Type C</td>\n",
       "        <td>64</td>\n",
       "        <td>6</td>\n",
       "        <td>64</td>\n",
       "        <td>29999</td>\n",
       "    </tr>\n",
       "    <tr>\n",
       "        <td>6</td>\n",
       "        <td>Galaxy M51</td>\n",
       "        <td>Samsung</td>\n",
       "        <td>7000</td>\n",
       "        <td>25</td>\n",
       "        <td>Type C</td>\n",
       "        <td>64</td>\n",
       "        <td>6</td>\n",
       "        <td>128</td>\n",
       "        <td>24999</td>\n",
       "    </tr>\n",
       "    <tr>\n",
       "        <td>7</td>\n",
       "        <td>ROG Phone 3</td>\n",
       "        <td>Asus</td>\n",
       "        <td>6000</td>\n",
       "        <td>30</td>\n",
       "        <td>Type C</td>\n",
       "        <td>64</td>\n",
       "        <td>8</td>\n",
       "        <td>128</td>\n",
       "        <td>49999</td>\n",
       "    </tr>\n",
       "    <tr>\n",
       "        <td>8</td>\n",
       "        <td>IPhone 11 Pro max</td>\n",
       "        <td>Apple</td>\n",
       "        <td>3969</td>\n",
       "        <td>18</td>\n",
       "        <td>Lighting Port</td>\n",
       "        <td>12</td>\n",
       "        <td>4</td>\n",
       "        <td>256</td>\n",
       "        <td>123899</td>\n",
       "    </tr>\n",
       "    <tr>\n",
       "        <td>9</td>\n",
       "        <td>Oneplus 8 Pro</td>\n",
       "        <td>OnePlus</td>\n",
       "        <td>4510</td>\n",
       "        <td>30</td>\n",
       "        <td>Type C</td>\n",
       "        <td>48</td>\n",
       "        <td>8</td>\n",
       "        <td>128</td>\n",
       "        <td>59999</td>\n",
       "    </tr>\n",
       "    <tr>\n",
       "        <td>10</td>\n",
       "        <td>Pixel 4A</td>\n",
       "        <td>Google</td>\n",
       "        <td>3140</td>\n",
       "        <td>18</td>\n",
       "        <td>Type C</td>\n",
       "        <td>12</td>\n",
       "        <td>6</td>\n",
       "        <td>128</td>\n",
       "        <td>29999</td>\n",
       "    </tr>\n",
       "    <tr>\n",
       "        <td>11</td>\n",
       "        <td>One Fusion Plus</td>\n",
       "        <td>Motorola</td>\n",
       "        <td>5000</td>\n",
       "        <td>18</td>\n",
       "        <td>Type C</td>\n",
       "        <td>64</td>\n",
       "        <td>6</td>\n",
       "        <td>128</td>\n",
       "        <td>17499</td>\n",
       "    </tr>\n",
       "</table>"
      ],
      "text/plain": [
       "[(1, 'Galaxy A70', 'Samsung', 4500, 25, 'Type C', 32, 6, 128, 23999),\n",
       " (2, 'Note 9 Pro', 'Redmi', 5020, 18, 'Type C', 48, 4, 64, 13999),\n",
       " (3, 'Oneplus Nord', 'OnePlus', 4115, 30, 'Type C', 48, 6, 64, 24999),\n",
       " (4, 'IPhone SE 2', 'Apple', 1821, 18, 'Lighting Port', 12, 3, 64, 37900),\n",
       " (5, 'X2 Pro', 'Realme', 4000, 50, 'Type C', 64, 6, 64, 29999),\n",
       " (6, 'Galaxy M51', 'Samsung', 7000, 25, 'Type C', 64, 6, 128, 24999),\n",
       " (7, 'ROG Phone 3', 'Asus', 6000, 30, 'Type C', 64, 8, 128, 49999),\n",
       " (8, 'IPhone 11 Pro max', 'Apple', 3969, 18, 'Lighting Port', 12, 4, 256, 123899),\n",
       " (9, 'Oneplus 8 Pro', 'OnePlus', 4510, 30, 'Type C', 48, 8, 128, 59999),\n",
       " (10, 'Pixel 4A', 'Google', 3140, 18, 'Type C', 12, 6, 128, 29999),\n",
       " (11, 'One Fusion Plus', 'Motorola', 5000, 18, 'Type C', 64, 6, 128, 17499)]"
      ]
     },
     "execution_count": 9,
     "metadata": {},
     "output_type": "execute_result"
    }
   ],
   "source": [
    "%%sql\n",
    "SELECT * FROM SmartPhoneMart"
   ]
  },
  {
   "cell_type": "code",
   "execution_count": 10,
   "metadata": {},
   "outputs": [
    {
     "name": "stdout",
     "output_type": "stream",
     "text": [
      " * sqlite://\n",
      "1 rows affected.\n"
     ]
    },
    {
     "data": {
      "text/plain": [
       "[]"
      ]
     },
     "execution_count": 10,
     "metadata": {},
     "output_type": "execute_result"
    }
   ],
   "source": [
    "%%sql\n",
    "DELETE FROM SmartPhoneMart WHERE DeviceName = 'X2 Pro';"
   ]
  },
  {
   "cell_type": "code",
   "execution_count": 11,
   "metadata": {},
   "outputs": [
    {
     "name": "stdout",
     "output_type": "stream",
     "text": [
      " * sqlite://\n",
      "Done.\n"
     ]
    },
    {
     "data": {
      "text/html": [
       "<table>\n",
       "    <tr>\n",
       "        <th>SerialNo</th>\n",
       "        <th>DeviceName</th>\n",
       "        <th>BrandName</th>\n",
       "        <th>Battery</th>\n",
       "        <th>ChargerCapacity</th>\n",
       "        <th>ChargingPort</th>\n",
       "        <th>PrimaryCamera</th>\n",
       "        <th>DefaultRAM</th>\n",
       "        <th>DefaultStorage</th>\n",
       "        <th>Price</th>\n",
       "    </tr>\n",
       "    <tr>\n",
       "        <td>1</td>\n",
       "        <td>Galaxy A70</td>\n",
       "        <td>Samsung</td>\n",
       "        <td>4500</td>\n",
       "        <td>25</td>\n",
       "        <td>Type C</td>\n",
       "        <td>32</td>\n",
       "        <td>6</td>\n",
       "        <td>128</td>\n",
       "        <td>23999</td>\n",
       "    </tr>\n",
       "    <tr>\n",
       "        <td>2</td>\n",
       "        <td>Note 9 Pro</td>\n",
       "        <td>Redmi</td>\n",
       "        <td>5020</td>\n",
       "        <td>18</td>\n",
       "        <td>Type C</td>\n",
       "        <td>48</td>\n",
       "        <td>4</td>\n",
       "        <td>64</td>\n",
       "        <td>13999</td>\n",
       "    </tr>\n",
       "    <tr>\n",
       "        <td>3</td>\n",
       "        <td>Oneplus Nord</td>\n",
       "        <td>OnePlus</td>\n",
       "        <td>4115</td>\n",
       "        <td>30</td>\n",
       "        <td>Type C</td>\n",
       "        <td>48</td>\n",
       "        <td>6</td>\n",
       "        <td>64</td>\n",
       "        <td>24999</td>\n",
       "    </tr>\n",
       "    <tr>\n",
       "        <td>4</td>\n",
       "        <td>IPhone SE 2</td>\n",
       "        <td>Apple</td>\n",
       "        <td>1821</td>\n",
       "        <td>18</td>\n",
       "        <td>Lighting Port</td>\n",
       "        <td>12</td>\n",
       "        <td>3</td>\n",
       "        <td>64</td>\n",
       "        <td>37900</td>\n",
       "    </tr>\n",
       "    <tr>\n",
       "        <td>6</td>\n",
       "        <td>Galaxy M51</td>\n",
       "        <td>Samsung</td>\n",
       "        <td>7000</td>\n",
       "        <td>25</td>\n",
       "        <td>Type C</td>\n",
       "        <td>64</td>\n",
       "        <td>6</td>\n",
       "        <td>128</td>\n",
       "        <td>24999</td>\n",
       "    </tr>\n",
       "    <tr>\n",
       "        <td>7</td>\n",
       "        <td>ROG Phone 3</td>\n",
       "        <td>Asus</td>\n",
       "        <td>6000</td>\n",
       "        <td>30</td>\n",
       "        <td>Type C</td>\n",
       "        <td>64</td>\n",
       "        <td>8</td>\n",
       "        <td>128</td>\n",
       "        <td>49999</td>\n",
       "    </tr>\n",
       "    <tr>\n",
       "        <td>8</td>\n",
       "        <td>IPhone 11 Pro max</td>\n",
       "        <td>Apple</td>\n",
       "        <td>3969</td>\n",
       "        <td>18</td>\n",
       "        <td>Lighting Port</td>\n",
       "        <td>12</td>\n",
       "        <td>4</td>\n",
       "        <td>256</td>\n",
       "        <td>123899</td>\n",
       "    </tr>\n",
       "    <tr>\n",
       "        <td>9</td>\n",
       "        <td>Oneplus 8 Pro</td>\n",
       "        <td>OnePlus</td>\n",
       "        <td>4510</td>\n",
       "        <td>30</td>\n",
       "        <td>Type C</td>\n",
       "        <td>48</td>\n",
       "        <td>8</td>\n",
       "        <td>128</td>\n",
       "        <td>59999</td>\n",
       "    </tr>\n",
       "    <tr>\n",
       "        <td>10</td>\n",
       "        <td>Pixel 4A</td>\n",
       "        <td>Google</td>\n",
       "        <td>3140</td>\n",
       "        <td>18</td>\n",
       "        <td>Type C</td>\n",
       "        <td>12</td>\n",
       "        <td>6</td>\n",
       "        <td>128</td>\n",
       "        <td>29999</td>\n",
       "    </tr>\n",
       "    <tr>\n",
       "        <td>11</td>\n",
       "        <td>One Fusion Plus</td>\n",
       "        <td>Motorola</td>\n",
       "        <td>5000</td>\n",
       "        <td>18</td>\n",
       "        <td>Type C</td>\n",
       "        <td>64</td>\n",
       "        <td>6</td>\n",
       "        <td>128</td>\n",
       "        <td>17499</td>\n",
       "    </tr>\n",
       "</table>"
      ],
      "text/plain": [
       "[(1, 'Galaxy A70', 'Samsung', 4500, 25, 'Type C', 32, 6, 128, 23999),\n",
       " (2, 'Note 9 Pro', 'Redmi', 5020, 18, 'Type C', 48, 4, 64, 13999),\n",
       " (3, 'Oneplus Nord', 'OnePlus', 4115, 30, 'Type C', 48, 6, 64, 24999),\n",
       " (4, 'IPhone SE 2', 'Apple', 1821, 18, 'Lighting Port', 12, 3, 64, 37900),\n",
       " (6, 'Galaxy M51', 'Samsung', 7000, 25, 'Type C', 64, 6, 128, 24999),\n",
       " (7, 'ROG Phone 3', 'Asus', 6000, 30, 'Type C', 64, 8, 128, 49999),\n",
       " (8, 'IPhone 11 Pro max', 'Apple', 3969, 18, 'Lighting Port', 12, 4, 256, 123899),\n",
       " (9, 'Oneplus 8 Pro', 'OnePlus', 4510, 30, 'Type C', 48, 8, 128, 59999),\n",
       " (10, 'Pixel 4A', 'Google', 3140, 18, 'Type C', 12, 6, 128, 29999),\n",
       " (11, 'One Fusion Plus', 'Motorola', 5000, 18, 'Type C', 64, 6, 128, 17499)]"
      ]
     },
     "execution_count": 11,
     "metadata": {},
     "output_type": "execute_result"
    }
   ],
   "source": [
    "%%sql\n",
    "SELECT * FROM SmartPhoneMart"
   ]
  },
  {
   "cell_type": "code",
   "execution_count": 12,
   "metadata": {},
   "outputs": [
    {
     "name": "stdout",
     "output_type": "stream",
     "text": [
      " * sqlite://\n",
      "1 rows affected.\n"
     ]
    },
    {
     "data": {
      "text/plain": [
       "[]"
      ]
     },
     "execution_count": 12,
     "metadata": {},
     "output_type": "execute_result"
    }
   ],
   "source": [
    "%%sql\n",
    "UPDATE SmartPhoneMart SET SerialNo = 5 WHERE SerialNo =6"
   ]
  },
  {
   "cell_type": "code",
   "execution_count": 13,
   "metadata": {},
   "outputs": [
    {
     "name": "stdout",
     "output_type": "stream",
     "text": [
      " * sqlite://\n",
      "1 rows affected.\n"
     ]
    },
    {
     "data": {
      "text/plain": [
       "[]"
      ]
     },
     "execution_count": 13,
     "metadata": {},
     "output_type": "execute_result"
    }
   ],
   "source": [
    "%%sql\n",
    "UPDATE SmartPhoneMart SET SerialNo = 6 WHERE SerialNo =7"
   ]
  },
  {
   "cell_type": "code",
   "execution_count": 14,
   "metadata": {},
   "outputs": [
    {
     "name": "stdout",
     "output_type": "stream",
     "text": [
      " * sqlite://\n",
      "1 rows affected.\n"
     ]
    },
    {
     "data": {
      "text/plain": [
       "[]"
      ]
     },
     "execution_count": 14,
     "metadata": {},
     "output_type": "execute_result"
    }
   ],
   "source": [
    "%%sql\n",
    "UPDATE SmartPhoneMart SET SerialNo = 7 WHERE SerialNo =8"
   ]
  },
  {
   "cell_type": "code",
   "execution_count": 15,
   "metadata": {},
   "outputs": [
    {
     "name": "stdout",
     "output_type": "stream",
     "text": [
      " * sqlite://\n",
      "1 rows affected.\n"
     ]
    },
    {
     "data": {
      "text/plain": [
       "[]"
      ]
     },
     "execution_count": 15,
     "metadata": {},
     "output_type": "execute_result"
    }
   ],
   "source": [
    "%%sql\n",
    "UPDATE SmartPhoneMart SET SerialNo = 8 WHERE SerialNo =9"
   ]
  },
  {
   "cell_type": "code",
   "execution_count": 16,
   "metadata": {},
   "outputs": [
    {
     "name": "stdout",
     "output_type": "stream",
     "text": [
      " * sqlite://\n",
      "1 rows affected.\n"
     ]
    },
    {
     "data": {
      "text/plain": [
       "[]"
      ]
     },
     "execution_count": 16,
     "metadata": {},
     "output_type": "execute_result"
    }
   ],
   "source": [
    "%%sql\n",
    "UPDATE SmartPhoneMart SET SerialNo = 9 WHERE SerialNo =10"
   ]
  },
  {
   "cell_type": "code",
   "execution_count": 17,
   "metadata": {},
   "outputs": [
    {
     "name": "stdout",
     "output_type": "stream",
     "text": [
      " * sqlite://\n",
      "1 rows affected.\n"
     ]
    },
    {
     "data": {
      "text/plain": [
       "[]"
      ]
     },
     "execution_count": 17,
     "metadata": {},
     "output_type": "execute_result"
    }
   ],
   "source": [
    "%%sql\n",
    "UPDATE SmartPhoneMart SET SerialNo = 10 WHERE SerialNo =11"
   ]
  },
  {
   "cell_type": "code",
   "execution_count": 18,
   "metadata": {},
   "outputs": [
    {
     "name": "stdout",
     "output_type": "stream",
     "text": [
      " * sqlite://\n",
      "Done.\n"
     ]
    },
    {
     "data": {
      "text/html": [
       "<table>\n",
       "    <tr>\n",
       "        <th>SerialNo</th>\n",
       "        <th>DeviceName</th>\n",
       "        <th>BrandName</th>\n",
       "        <th>Battery</th>\n",
       "        <th>ChargerCapacity</th>\n",
       "        <th>ChargingPort</th>\n",
       "        <th>PrimaryCamera</th>\n",
       "        <th>DefaultRAM</th>\n",
       "        <th>DefaultStorage</th>\n",
       "        <th>Price</th>\n",
       "    </tr>\n",
       "    <tr>\n",
       "        <td>1</td>\n",
       "        <td>Galaxy A70</td>\n",
       "        <td>Samsung</td>\n",
       "        <td>4500</td>\n",
       "        <td>25</td>\n",
       "        <td>Type C</td>\n",
       "        <td>32</td>\n",
       "        <td>6</td>\n",
       "        <td>128</td>\n",
       "        <td>23999</td>\n",
       "    </tr>\n",
       "    <tr>\n",
       "        <td>2</td>\n",
       "        <td>Note 9 Pro</td>\n",
       "        <td>Redmi</td>\n",
       "        <td>5020</td>\n",
       "        <td>18</td>\n",
       "        <td>Type C</td>\n",
       "        <td>48</td>\n",
       "        <td>4</td>\n",
       "        <td>64</td>\n",
       "        <td>13999</td>\n",
       "    </tr>\n",
       "    <tr>\n",
       "        <td>3</td>\n",
       "        <td>Oneplus Nord</td>\n",
       "        <td>OnePlus</td>\n",
       "        <td>4115</td>\n",
       "        <td>30</td>\n",
       "        <td>Type C</td>\n",
       "        <td>48</td>\n",
       "        <td>6</td>\n",
       "        <td>64</td>\n",
       "        <td>24999</td>\n",
       "    </tr>\n",
       "    <tr>\n",
       "        <td>4</td>\n",
       "        <td>IPhone SE 2</td>\n",
       "        <td>Apple</td>\n",
       "        <td>1821</td>\n",
       "        <td>18</td>\n",
       "        <td>Lighting Port</td>\n",
       "        <td>12</td>\n",
       "        <td>3</td>\n",
       "        <td>64</td>\n",
       "        <td>37900</td>\n",
       "    </tr>\n",
       "    <tr>\n",
       "        <td>5</td>\n",
       "        <td>Galaxy M51</td>\n",
       "        <td>Samsung</td>\n",
       "        <td>7000</td>\n",
       "        <td>25</td>\n",
       "        <td>Type C</td>\n",
       "        <td>64</td>\n",
       "        <td>6</td>\n",
       "        <td>128</td>\n",
       "        <td>24999</td>\n",
       "    </tr>\n",
       "    <tr>\n",
       "        <td>6</td>\n",
       "        <td>ROG Phone 3</td>\n",
       "        <td>Asus</td>\n",
       "        <td>6000</td>\n",
       "        <td>30</td>\n",
       "        <td>Type C</td>\n",
       "        <td>64</td>\n",
       "        <td>8</td>\n",
       "        <td>128</td>\n",
       "        <td>49999</td>\n",
       "    </tr>\n",
       "    <tr>\n",
       "        <td>7</td>\n",
       "        <td>IPhone 11 Pro max</td>\n",
       "        <td>Apple</td>\n",
       "        <td>3969</td>\n",
       "        <td>18</td>\n",
       "        <td>Lighting Port</td>\n",
       "        <td>12</td>\n",
       "        <td>4</td>\n",
       "        <td>256</td>\n",
       "        <td>123899</td>\n",
       "    </tr>\n",
       "    <tr>\n",
       "        <td>8</td>\n",
       "        <td>Oneplus 8 Pro</td>\n",
       "        <td>OnePlus</td>\n",
       "        <td>4510</td>\n",
       "        <td>30</td>\n",
       "        <td>Type C</td>\n",
       "        <td>48</td>\n",
       "        <td>8</td>\n",
       "        <td>128</td>\n",
       "        <td>59999</td>\n",
       "    </tr>\n",
       "    <tr>\n",
       "        <td>9</td>\n",
       "        <td>Pixel 4A</td>\n",
       "        <td>Google</td>\n",
       "        <td>3140</td>\n",
       "        <td>18</td>\n",
       "        <td>Type C</td>\n",
       "        <td>12</td>\n",
       "        <td>6</td>\n",
       "        <td>128</td>\n",
       "        <td>29999</td>\n",
       "    </tr>\n",
       "    <tr>\n",
       "        <td>10</td>\n",
       "        <td>One Fusion Plus</td>\n",
       "        <td>Motorola</td>\n",
       "        <td>5000</td>\n",
       "        <td>18</td>\n",
       "        <td>Type C</td>\n",
       "        <td>64</td>\n",
       "        <td>6</td>\n",
       "        <td>128</td>\n",
       "        <td>17499</td>\n",
       "    </tr>\n",
       "</table>"
      ],
      "text/plain": [
       "[(1, 'Galaxy A70', 'Samsung', 4500, 25, 'Type C', 32, 6, 128, 23999),\n",
       " (2, 'Note 9 Pro', 'Redmi', 5020, 18, 'Type C', 48, 4, 64, 13999),\n",
       " (3, 'Oneplus Nord', 'OnePlus', 4115, 30, 'Type C', 48, 6, 64, 24999),\n",
       " (4, 'IPhone SE 2', 'Apple', 1821, 18, 'Lighting Port', 12, 3, 64, 37900),\n",
       " (5, 'Galaxy M51', 'Samsung', 7000, 25, 'Type C', 64, 6, 128, 24999),\n",
       " (6, 'ROG Phone 3', 'Asus', 6000, 30, 'Type C', 64, 8, 128, 49999),\n",
       " (7, 'IPhone 11 Pro max', 'Apple', 3969, 18, 'Lighting Port', 12, 4, 256, 123899),\n",
       " (8, 'Oneplus 8 Pro', 'OnePlus', 4510, 30, 'Type C', 48, 8, 128, 59999),\n",
       " (9, 'Pixel 4A', 'Google', 3140, 18, 'Type C', 12, 6, 128, 29999),\n",
       " (10, 'One Fusion Plus', 'Motorola', 5000, 18, 'Type C', 64, 6, 128, 17499)]"
      ]
     },
     "execution_count": 18,
     "metadata": {},
     "output_type": "execute_result"
    }
   ],
   "source": [
    "%%sql\n",
    "SELECT * FROM SmartPhoneMart"
   ]
  },
  {
   "cell_type": "code",
   "execution_count": 19,
   "metadata": {},
   "outputs": [
    {
     "name": "stdout",
     "output_type": "stream",
     "text": [
      " * sqlite://\n",
      "Done.\n"
     ]
    },
    {
     "data": {
      "text/html": [
       "<table>\n",
       "    <tr>\n",
       "        <th>SerialNo</th>\n",
       "        <th>DeviceName</th>\n",
       "        <th>BrandName</th>\n",
       "        <th>Battery</th>\n",
       "        <th>ChargerCapacity</th>\n",
       "        <th>ChargingPort</th>\n",
       "        <th>PrimaryCamera</th>\n",
       "        <th>DefaultRAM</th>\n",
       "        <th>DefaultStorage</th>\n",
       "        <th>Price</th>\n",
       "    </tr>\n",
       "    <tr>\n",
       "        <td>1</td>\n",
       "        <td>Galaxy A70</td>\n",
       "        <td>Samsung</td>\n",
       "        <td>4500</td>\n",
       "        <td>25</td>\n",
       "        <td>Type C</td>\n",
       "        <td>32</td>\n",
       "        <td>6</td>\n",
       "        <td>128</td>\n",
       "        <td>23999</td>\n",
       "    </tr>\n",
       "    <tr>\n",
       "        <td>5</td>\n",
       "        <td>Galaxy M51</td>\n",
       "        <td>Samsung</td>\n",
       "        <td>7000</td>\n",
       "        <td>25</td>\n",
       "        <td>Type C</td>\n",
       "        <td>64</td>\n",
       "        <td>6</td>\n",
       "        <td>128</td>\n",
       "        <td>24999</td>\n",
       "    </tr>\n",
       "</table>"
      ],
      "text/plain": [
       "[(1, 'Galaxy A70', 'Samsung', 4500, 25, 'Type C', 32, 6, 128, 23999),\n",
       " (5, 'Galaxy M51', 'Samsung', 7000, 25, 'Type C', 64, 6, 128, 24999)]"
      ]
     },
     "execution_count": 19,
     "metadata": {},
     "output_type": "execute_result"
    }
   ],
   "source": [
    "%%sql\n",
    "SELECT * FROM SmartPhoneMart WHERE BrandName LIKE 'Sam%';"
   ]
  },
  {
   "cell_type": "code",
   "execution_count": 20,
   "metadata": {},
   "outputs": [
    {
     "name": "stdout",
     "output_type": "stream",
     "text": [
      " * sqlite://\n",
      "Done.\n"
     ]
    },
    {
     "data": {
      "text/html": [
       "<table>\n",
       "    <tr>\n",
       "        <th>SerialNo</th>\n",
       "        <th>DeviceName</th>\n",
       "        <th>BrandName</th>\n",
       "        <th>Battery</th>\n",
       "        <th>ChargerCapacity</th>\n",
       "        <th>ChargingPort</th>\n",
       "        <th>PrimaryCamera</th>\n",
       "        <th>DefaultRAM</th>\n",
       "        <th>DefaultStorage</th>\n",
       "        <th>Price</th>\n",
       "    </tr>\n",
       "    <tr>\n",
       "        <td>4</td>\n",
       "        <td>IPhone SE 2</td>\n",
       "        <td>Apple</td>\n",
       "        <td>1821</td>\n",
       "        <td>18</td>\n",
       "        <td>Lighting Port</td>\n",
       "        <td>12</td>\n",
       "        <td>3</td>\n",
       "        <td>64</td>\n",
       "        <td>37900</td>\n",
       "    </tr>\n",
       "    <tr>\n",
       "        <td>7</td>\n",
       "        <td>IPhone 11 Pro max</td>\n",
       "        <td>Apple</td>\n",
       "        <td>3969</td>\n",
       "        <td>18</td>\n",
       "        <td>Lighting Port</td>\n",
       "        <td>12</td>\n",
       "        <td>4</td>\n",
       "        <td>256</td>\n",
       "        <td>123899</td>\n",
       "    </tr>\n",
       "</table>"
      ],
      "text/plain": [
       "[(4, 'IPhone SE 2', 'Apple', 1821, 18, 'Lighting Port', 12, 3, 64, 37900),\n",
       " (7, 'IPhone 11 Pro max', 'Apple', 3969, 18, 'Lighting Port', 12, 4, 256, 123899)]"
      ]
     },
     "execution_count": 20,
     "metadata": {},
     "output_type": "execute_result"
    }
   ],
   "source": [
    "%%sql\n",
    "SELECT * FROM SmartPhoneMart WHERE DeviceName LIKE 'IPh%';"
   ]
  },
  {
   "cell_type": "code",
   "execution_count": 21,
   "metadata": {},
   "outputs": [
    {
     "name": "stdout",
     "output_type": "stream",
     "text": [
      " * sqlite://\n",
      "Done.\n"
     ]
    },
    {
     "data": {
      "text/plain": [
       "[]"
      ]
     },
     "execution_count": 21,
     "metadata": {},
     "output_type": "execute_result"
    }
   ],
   "source": [
    "%%sql\n",
    "ALTER TABLE SmartPhoneMart ADD ReleaseYear int;"
   ]
  },
  {
   "cell_type": "code",
   "execution_count": 22,
   "metadata": {},
   "outputs": [
    {
     "name": "stdout",
     "output_type": "stream",
     "text": [
      " * sqlite://\n",
      "Done.\n"
     ]
    },
    {
     "data": {
      "text/html": [
       "<table>\n",
       "    <tr>\n",
       "        <th>SerialNo</th>\n",
       "        <th>DeviceName</th>\n",
       "        <th>BrandName</th>\n",
       "        <th>Battery</th>\n",
       "        <th>ChargerCapacity</th>\n",
       "        <th>ChargingPort</th>\n",
       "        <th>PrimaryCamera</th>\n",
       "        <th>DefaultRAM</th>\n",
       "        <th>DefaultStorage</th>\n",
       "        <th>Price</th>\n",
       "        <th>ReleaseYear</th>\n",
       "    </tr>\n",
       "    <tr>\n",
       "        <td>1</td>\n",
       "        <td>Galaxy A70</td>\n",
       "        <td>Samsung</td>\n",
       "        <td>4500</td>\n",
       "        <td>25</td>\n",
       "        <td>Type C</td>\n",
       "        <td>32</td>\n",
       "        <td>6</td>\n",
       "        <td>128</td>\n",
       "        <td>23999</td>\n",
       "        <td>None</td>\n",
       "    </tr>\n",
       "    <tr>\n",
       "        <td>2</td>\n",
       "        <td>Note 9 Pro</td>\n",
       "        <td>Redmi</td>\n",
       "        <td>5020</td>\n",
       "        <td>18</td>\n",
       "        <td>Type C</td>\n",
       "        <td>48</td>\n",
       "        <td>4</td>\n",
       "        <td>64</td>\n",
       "        <td>13999</td>\n",
       "        <td>None</td>\n",
       "    </tr>\n",
       "    <tr>\n",
       "        <td>3</td>\n",
       "        <td>Oneplus Nord</td>\n",
       "        <td>OnePlus</td>\n",
       "        <td>4115</td>\n",
       "        <td>30</td>\n",
       "        <td>Type C</td>\n",
       "        <td>48</td>\n",
       "        <td>6</td>\n",
       "        <td>64</td>\n",
       "        <td>24999</td>\n",
       "        <td>None</td>\n",
       "    </tr>\n",
       "    <tr>\n",
       "        <td>4</td>\n",
       "        <td>IPhone SE 2</td>\n",
       "        <td>Apple</td>\n",
       "        <td>1821</td>\n",
       "        <td>18</td>\n",
       "        <td>Lighting Port</td>\n",
       "        <td>12</td>\n",
       "        <td>3</td>\n",
       "        <td>64</td>\n",
       "        <td>37900</td>\n",
       "        <td>None</td>\n",
       "    </tr>\n",
       "    <tr>\n",
       "        <td>5</td>\n",
       "        <td>Galaxy M51</td>\n",
       "        <td>Samsung</td>\n",
       "        <td>7000</td>\n",
       "        <td>25</td>\n",
       "        <td>Type C</td>\n",
       "        <td>64</td>\n",
       "        <td>6</td>\n",
       "        <td>128</td>\n",
       "        <td>24999</td>\n",
       "        <td>None</td>\n",
       "    </tr>\n",
       "    <tr>\n",
       "        <td>6</td>\n",
       "        <td>ROG Phone 3</td>\n",
       "        <td>Asus</td>\n",
       "        <td>6000</td>\n",
       "        <td>30</td>\n",
       "        <td>Type C</td>\n",
       "        <td>64</td>\n",
       "        <td>8</td>\n",
       "        <td>128</td>\n",
       "        <td>49999</td>\n",
       "        <td>None</td>\n",
       "    </tr>\n",
       "    <tr>\n",
       "        <td>7</td>\n",
       "        <td>IPhone 11 Pro max</td>\n",
       "        <td>Apple</td>\n",
       "        <td>3969</td>\n",
       "        <td>18</td>\n",
       "        <td>Lighting Port</td>\n",
       "        <td>12</td>\n",
       "        <td>4</td>\n",
       "        <td>256</td>\n",
       "        <td>123899</td>\n",
       "        <td>None</td>\n",
       "    </tr>\n",
       "    <tr>\n",
       "        <td>8</td>\n",
       "        <td>Oneplus 8 Pro</td>\n",
       "        <td>OnePlus</td>\n",
       "        <td>4510</td>\n",
       "        <td>30</td>\n",
       "        <td>Type C</td>\n",
       "        <td>48</td>\n",
       "        <td>8</td>\n",
       "        <td>128</td>\n",
       "        <td>59999</td>\n",
       "        <td>None</td>\n",
       "    </tr>\n",
       "    <tr>\n",
       "        <td>9</td>\n",
       "        <td>Pixel 4A</td>\n",
       "        <td>Google</td>\n",
       "        <td>3140</td>\n",
       "        <td>18</td>\n",
       "        <td>Type C</td>\n",
       "        <td>12</td>\n",
       "        <td>6</td>\n",
       "        <td>128</td>\n",
       "        <td>29999</td>\n",
       "        <td>None</td>\n",
       "    </tr>\n",
       "    <tr>\n",
       "        <td>10</td>\n",
       "        <td>One Fusion Plus</td>\n",
       "        <td>Motorola</td>\n",
       "        <td>5000</td>\n",
       "        <td>18</td>\n",
       "        <td>Type C</td>\n",
       "        <td>64</td>\n",
       "        <td>6</td>\n",
       "        <td>128</td>\n",
       "        <td>17499</td>\n",
       "        <td>None</td>\n",
       "    </tr>\n",
       "</table>"
      ],
      "text/plain": [
       "[(1, 'Galaxy A70', 'Samsung', 4500, 25, 'Type C', 32, 6, 128, 23999, None),\n",
       " (2, 'Note 9 Pro', 'Redmi', 5020, 18, 'Type C', 48, 4, 64, 13999, None),\n",
       " (3, 'Oneplus Nord', 'OnePlus', 4115, 30, 'Type C', 48, 6, 64, 24999, None),\n",
       " (4, 'IPhone SE 2', 'Apple', 1821, 18, 'Lighting Port', 12, 3, 64, 37900, None),\n",
       " (5, 'Galaxy M51', 'Samsung', 7000, 25, 'Type C', 64, 6, 128, 24999, None),\n",
       " (6, 'ROG Phone 3', 'Asus', 6000, 30, 'Type C', 64, 8, 128, 49999, None),\n",
       " (7, 'IPhone 11 Pro max', 'Apple', 3969, 18, 'Lighting Port', 12, 4, 256, 123899, None),\n",
       " (8, 'Oneplus 8 Pro', 'OnePlus', 4510, 30, 'Type C', 48, 8, 128, 59999, None),\n",
       " (9, 'Pixel 4A', 'Google', 3140, 18, 'Type C', 12, 6, 128, 29999, None),\n",
       " (10, 'One Fusion Plus', 'Motorola', 5000, 18, 'Type C', 64, 6, 128, 17499, None)]"
      ]
     },
     "execution_count": 22,
     "metadata": {},
     "output_type": "execute_result"
    }
   ],
   "source": [
    "%%sql\n",
    "SELECT * FROM SmartPhoneMart"
   ]
  },
  {
   "cell_type": "code",
   "execution_count": 23,
   "metadata": {},
   "outputs": [
    {
     "name": "stdout",
     "output_type": "stream",
     "text": [
      " * sqlite://\n",
      "1 rows affected.\n"
     ]
    },
    {
     "data": {
      "text/plain": [
       "[]"
      ]
     },
     "execution_count": 23,
     "metadata": {},
     "output_type": "execute_result"
    }
   ],
   "source": [
    "%%sql\n",
    "UPDATE SmartPhoneMart SET ReleaseYear = 2019 WHERE DeviceName = 'Galaxy A70'"
   ]
  },
  {
   "cell_type": "code",
   "execution_count": 24,
   "metadata": {},
   "outputs": [
    {
     "name": "stdout",
     "output_type": "stream",
     "text": [
      " * sqlite://\n",
      "1 rows affected.\n"
     ]
    },
    {
     "data": {
      "text/plain": [
       "[]"
      ]
     },
     "execution_count": 24,
     "metadata": {},
     "output_type": "execute_result"
    }
   ],
   "source": [
    "%%sql\n",
    "UPDATE SmartPhoneMart SET ReleaseYear = 2020 WHERE DeviceName = 'Note 9 Pro'"
   ]
  },
  {
   "cell_type": "code",
   "execution_count": 25,
   "metadata": {},
   "outputs": [
    {
     "name": "stdout",
     "output_type": "stream",
     "text": [
      " * sqlite://\n",
      "1 rows affected.\n"
     ]
    },
    {
     "data": {
      "text/plain": [
       "[]"
      ]
     },
     "execution_count": 25,
     "metadata": {},
     "output_type": "execute_result"
    }
   ],
   "source": [
    "%%sql\n",
    "UPDATE SmartPhoneMart SET ReleaseYear = 2020 WHERE DeviceName = 'Oneplus Nord'"
   ]
  },
  {
   "cell_type": "code",
   "execution_count": 26,
   "metadata": {},
   "outputs": [
    {
     "name": "stdout",
     "output_type": "stream",
     "text": [
      " * sqlite://\n",
      "1 rows affected.\n"
     ]
    },
    {
     "data": {
      "text/plain": [
       "[]"
      ]
     },
     "execution_count": 26,
     "metadata": {},
     "output_type": "execute_result"
    }
   ],
   "source": [
    "%%sql\n",
    "UPDATE SmartPhoneMart SET ReleaseYear = 2020 WHERE DeviceName = 'IPhone SE 2'"
   ]
  },
  {
   "cell_type": "code",
   "execution_count": 27,
   "metadata": {},
   "outputs": [
    {
     "name": "stdout",
     "output_type": "stream",
     "text": [
      " * sqlite://\n",
      "1 rows affected.\n"
     ]
    },
    {
     "data": {
      "text/plain": [
       "[]"
      ]
     },
     "execution_count": 27,
     "metadata": {},
     "output_type": "execute_result"
    }
   ],
   "source": [
    "%%sql\n",
    "UPDATE SmartPhoneMart SET ReleaseYear = 2020 WHERE DeviceName = 'Galaxy M51'"
   ]
  },
  {
   "cell_type": "code",
   "execution_count": 28,
   "metadata": {},
   "outputs": [
    {
     "name": "stdout",
     "output_type": "stream",
     "text": [
      " * sqlite://\n",
      "1 rows affected.\n"
     ]
    },
    {
     "data": {
      "text/plain": [
       "[]"
      ]
     },
     "execution_count": 28,
     "metadata": {},
     "output_type": "execute_result"
    }
   ],
   "source": [
    "%%sql\n",
    "UPDATE SmartPhoneMart SET ReleaseYear = 2020 WHERE DeviceName = 'ROG Phone 3'"
   ]
  },
  {
   "cell_type": "code",
   "execution_count": 29,
   "metadata": {},
   "outputs": [
    {
     "name": "stdout",
     "output_type": "stream",
     "text": [
      " * sqlite://\n",
      "1 rows affected.\n"
     ]
    },
    {
     "data": {
      "text/plain": [
       "[]"
      ]
     },
     "execution_count": 29,
     "metadata": {},
     "output_type": "execute_result"
    }
   ],
   "source": [
    "%%sql\n",
    "UPDATE SmartPhoneMart SET ReleaseYear = 2019 WHERE DeviceName = 'IPhone 11 Pro max'"
   ]
  },
  {
   "cell_type": "code",
   "execution_count": 30,
   "metadata": {},
   "outputs": [
    {
     "name": "stdout",
     "output_type": "stream",
     "text": [
      " * sqlite://\n",
      "1 rows affected.\n"
     ]
    },
    {
     "data": {
      "text/plain": [
       "[]"
      ]
     },
     "execution_count": 30,
     "metadata": {},
     "output_type": "execute_result"
    }
   ],
   "source": [
    "%%sql\n",
    "UPDATE SmartPhoneMart SET ReleaseYear = 2020 WHERE DeviceName = 'Oneplus 8 Pro'"
   ]
  },
  {
   "cell_type": "code",
   "execution_count": 31,
   "metadata": {},
   "outputs": [
    {
     "name": "stdout",
     "output_type": "stream",
     "text": [
      " * sqlite://\n",
      "1 rows affected.\n"
     ]
    },
    {
     "data": {
      "text/plain": [
       "[]"
      ]
     },
     "execution_count": 31,
     "metadata": {},
     "output_type": "execute_result"
    }
   ],
   "source": [
    "%%sql\n",
    "UPDATE SmartPhoneMart SET ReleaseYear = 2020 WHERE DeviceName = 'Pixel 4A'"
   ]
  },
  {
   "cell_type": "code",
   "execution_count": 32,
   "metadata": {},
   "outputs": [
    {
     "name": "stdout",
     "output_type": "stream",
     "text": [
      " * sqlite://\n",
      "1 rows affected.\n"
     ]
    },
    {
     "data": {
      "text/plain": [
       "[]"
      ]
     },
     "execution_count": 32,
     "metadata": {},
     "output_type": "execute_result"
    }
   ],
   "source": [
    "%%sql\n",
    "UPDATE SmartPhoneMart SET ReleaseYear = 2020 WHERE DeviceName = 'One Fusion Plus'"
   ]
  },
  {
   "cell_type": "code",
   "execution_count": 33,
   "metadata": {},
   "outputs": [
    {
     "name": "stdout",
     "output_type": "stream",
     "text": [
      " * sqlite://\n",
      "Done.\n"
     ]
    },
    {
     "data": {
      "text/html": [
       "<table>\n",
       "    <tr>\n",
       "        <th>SerialNo</th>\n",
       "        <th>DeviceName</th>\n",
       "        <th>BrandName</th>\n",
       "        <th>Battery</th>\n",
       "        <th>ChargerCapacity</th>\n",
       "        <th>ChargingPort</th>\n",
       "        <th>PrimaryCamera</th>\n",
       "        <th>DefaultRAM</th>\n",
       "        <th>DefaultStorage</th>\n",
       "        <th>Price</th>\n",
       "        <th>ReleaseYear</th>\n",
       "    </tr>\n",
       "    <tr>\n",
       "        <td>1</td>\n",
       "        <td>Galaxy A70</td>\n",
       "        <td>Samsung</td>\n",
       "        <td>4500</td>\n",
       "        <td>25</td>\n",
       "        <td>Type C</td>\n",
       "        <td>32</td>\n",
       "        <td>6</td>\n",
       "        <td>128</td>\n",
       "        <td>23999</td>\n",
       "        <td>2019</td>\n",
       "    </tr>\n",
       "    <tr>\n",
       "        <td>2</td>\n",
       "        <td>Note 9 Pro</td>\n",
       "        <td>Redmi</td>\n",
       "        <td>5020</td>\n",
       "        <td>18</td>\n",
       "        <td>Type C</td>\n",
       "        <td>48</td>\n",
       "        <td>4</td>\n",
       "        <td>64</td>\n",
       "        <td>13999</td>\n",
       "        <td>2020</td>\n",
       "    </tr>\n",
       "    <tr>\n",
       "        <td>3</td>\n",
       "        <td>Oneplus Nord</td>\n",
       "        <td>OnePlus</td>\n",
       "        <td>4115</td>\n",
       "        <td>30</td>\n",
       "        <td>Type C</td>\n",
       "        <td>48</td>\n",
       "        <td>6</td>\n",
       "        <td>64</td>\n",
       "        <td>24999</td>\n",
       "        <td>2020</td>\n",
       "    </tr>\n",
       "    <tr>\n",
       "        <td>4</td>\n",
       "        <td>IPhone SE 2</td>\n",
       "        <td>Apple</td>\n",
       "        <td>1821</td>\n",
       "        <td>18</td>\n",
       "        <td>Lighting Port</td>\n",
       "        <td>12</td>\n",
       "        <td>3</td>\n",
       "        <td>64</td>\n",
       "        <td>37900</td>\n",
       "        <td>2020</td>\n",
       "    </tr>\n",
       "    <tr>\n",
       "        <td>5</td>\n",
       "        <td>Galaxy M51</td>\n",
       "        <td>Samsung</td>\n",
       "        <td>7000</td>\n",
       "        <td>25</td>\n",
       "        <td>Type C</td>\n",
       "        <td>64</td>\n",
       "        <td>6</td>\n",
       "        <td>128</td>\n",
       "        <td>24999</td>\n",
       "        <td>2020</td>\n",
       "    </tr>\n",
       "    <tr>\n",
       "        <td>6</td>\n",
       "        <td>ROG Phone 3</td>\n",
       "        <td>Asus</td>\n",
       "        <td>6000</td>\n",
       "        <td>30</td>\n",
       "        <td>Type C</td>\n",
       "        <td>64</td>\n",
       "        <td>8</td>\n",
       "        <td>128</td>\n",
       "        <td>49999</td>\n",
       "        <td>2020</td>\n",
       "    </tr>\n",
       "    <tr>\n",
       "        <td>7</td>\n",
       "        <td>IPhone 11 Pro max</td>\n",
       "        <td>Apple</td>\n",
       "        <td>3969</td>\n",
       "        <td>18</td>\n",
       "        <td>Lighting Port</td>\n",
       "        <td>12</td>\n",
       "        <td>4</td>\n",
       "        <td>256</td>\n",
       "        <td>123899</td>\n",
       "        <td>2019</td>\n",
       "    </tr>\n",
       "    <tr>\n",
       "        <td>8</td>\n",
       "        <td>Oneplus 8 Pro</td>\n",
       "        <td>OnePlus</td>\n",
       "        <td>4510</td>\n",
       "        <td>30</td>\n",
       "        <td>Type C</td>\n",
       "        <td>48</td>\n",
       "        <td>8</td>\n",
       "        <td>128</td>\n",
       "        <td>59999</td>\n",
       "        <td>2020</td>\n",
       "    </tr>\n",
       "    <tr>\n",
       "        <td>9</td>\n",
       "        <td>Pixel 4A</td>\n",
       "        <td>Google</td>\n",
       "        <td>3140</td>\n",
       "        <td>18</td>\n",
       "        <td>Type C</td>\n",
       "        <td>12</td>\n",
       "        <td>6</td>\n",
       "        <td>128</td>\n",
       "        <td>29999</td>\n",
       "        <td>2020</td>\n",
       "    </tr>\n",
       "    <tr>\n",
       "        <td>10</td>\n",
       "        <td>One Fusion Plus</td>\n",
       "        <td>Motorola</td>\n",
       "        <td>5000</td>\n",
       "        <td>18</td>\n",
       "        <td>Type C</td>\n",
       "        <td>64</td>\n",
       "        <td>6</td>\n",
       "        <td>128</td>\n",
       "        <td>17499</td>\n",
       "        <td>2020</td>\n",
       "    </tr>\n",
       "</table>"
      ],
      "text/plain": [
       "[(1, 'Galaxy A70', 'Samsung', 4500, 25, 'Type C', 32, 6, 128, 23999, 2019),\n",
       " (2, 'Note 9 Pro', 'Redmi', 5020, 18, 'Type C', 48, 4, 64, 13999, 2020),\n",
       " (3, 'Oneplus Nord', 'OnePlus', 4115, 30, 'Type C', 48, 6, 64, 24999, 2020),\n",
       " (4, 'IPhone SE 2', 'Apple', 1821, 18, 'Lighting Port', 12, 3, 64, 37900, 2020),\n",
       " (5, 'Galaxy M51', 'Samsung', 7000, 25, 'Type C', 64, 6, 128, 24999, 2020),\n",
       " (6, 'ROG Phone 3', 'Asus', 6000, 30, 'Type C', 64, 8, 128, 49999, 2020),\n",
       " (7, 'IPhone 11 Pro max', 'Apple', 3969, 18, 'Lighting Port', 12, 4, 256, 123899, 2019),\n",
       " (8, 'Oneplus 8 Pro', 'OnePlus', 4510, 30, 'Type C', 48, 8, 128, 59999, 2020),\n",
       " (9, 'Pixel 4A', 'Google', 3140, 18, 'Type C', 12, 6, 128, 29999, 2020),\n",
       " (10, 'One Fusion Plus', 'Motorola', 5000, 18, 'Type C', 64, 6, 128, 17499, 2020)]"
      ]
     },
     "execution_count": 33,
     "metadata": {},
     "output_type": "execute_result"
    }
   ],
   "source": [
    "%%sql\n",
    "SELECT * FROM SmartPhoneMart"
   ]
  },
  {
   "cell_type": "code",
   "execution_count": 34,
   "metadata": {},
   "outputs": [
    {
     "name": "stdout",
     "output_type": "stream",
     "text": [
      " * sqlite://\n",
      "Done.\n"
     ]
    },
    {
     "data": {
      "text/html": [
       "<table>\n",
       "    <tr>\n",
       "        <th>SerialNo</th>\n",
       "        <th>DeviceName</th>\n",
       "        <th>BrandName</th>\n",
       "        <th>Battery</th>\n",
       "        <th>ChargerCapacity</th>\n",
       "        <th>ChargingPort</th>\n",
       "        <th>PrimaryCamera</th>\n",
       "        <th>DefaultRAM</th>\n",
       "        <th>DefaultStorage</th>\n",
       "        <th>Price</th>\n",
       "        <th>ReleaseYear</th>\n",
       "    </tr>\n",
       "    <tr>\n",
       "        <td>2</td>\n",
       "        <td>Note 9 Pro</td>\n",
       "        <td>Redmi</td>\n",
       "        <td>5020</td>\n",
       "        <td>18</td>\n",
       "        <td>Type C</td>\n",
       "        <td>48</td>\n",
       "        <td>4</td>\n",
       "        <td>64</td>\n",
       "        <td>13999</td>\n",
       "        <td>2020</td>\n",
       "    </tr>\n",
       "    <tr>\n",
       "        <td>3</td>\n",
       "        <td>Oneplus Nord</td>\n",
       "        <td>OnePlus</td>\n",
       "        <td>4115</td>\n",
       "        <td>30</td>\n",
       "        <td>Type C</td>\n",
       "        <td>48</td>\n",
       "        <td>6</td>\n",
       "        <td>64</td>\n",
       "        <td>24999</td>\n",
       "        <td>2020</td>\n",
       "    </tr>\n",
       "    <tr>\n",
       "        <td>4</td>\n",
       "        <td>IPhone SE 2</td>\n",
       "        <td>Apple</td>\n",
       "        <td>1821</td>\n",
       "        <td>18</td>\n",
       "        <td>Lighting Port</td>\n",
       "        <td>12</td>\n",
       "        <td>3</td>\n",
       "        <td>64</td>\n",
       "        <td>37900</td>\n",
       "        <td>2020</td>\n",
       "    </tr>\n",
       "    <tr>\n",
       "        <td>1</td>\n",
       "        <td>Galaxy A70</td>\n",
       "        <td>Samsung</td>\n",
       "        <td>4500</td>\n",
       "        <td>25</td>\n",
       "        <td>Type C</td>\n",
       "        <td>32</td>\n",
       "        <td>6</td>\n",
       "        <td>128</td>\n",
       "        <td>23999</td>\n",
       "        <td>2019</td>\n",
       "    </tr>\n",
       "    <tr>\n",
       "        <td>5</td>\n",
       "        <td>Galaxy M51</td>\n",
       "        <td>Samsung</td>\n",
       "        <td>7000</td>\n",
       "        <td>25</td>\n",
       "        <td>Type C</td>\n",
       "        <td>64</td>\n",
       "        <td>6</td>\n",
       "        <td>128</td>\n",
       "        <td>24999</td>\n",
       "        <td>2020</td>\n",
       "    </tr>\n",
       "    <tr>\n",
       "        <td>6</td>\n",
       "        <td>ROG Phone 3</td>\n",
       "        <td>Asus</td>\n",
       "        <td>6000</td>\n",
       "        <td>30</td>\n",
       "        <td>Type C</td>\n",
       "        <td>64</td>\n",
       "        <td>8</td>\n",
       "        <td>128</td>\n",
       "        <td>49999</td>\n",
       "        <td>2020</td>\n",
       "    </tr>\n",
       "    <tr>\n",
       "        <td>8</td>\n",
       "        <td>Oneplus 8 Pro</td>\n",
       "        <td>OnePlus</td>\n",
       "        <td>4510</td>\n",
       "        <td>30</td>\n",
       "        <td>Type C</td>\n",
       "        <td>48</td>\n",
       "        <td>8</td>\n",
       "        <td>128</td>\n",
       "        <td>59999</td>\n",
       "        <td>2020</td>\n",
       "    </tr>\n",
       "    <tr>\n",
       "        <td>9</td>\n",
       "        <td>Pixel 4A</td>\n",
       "        <td>Google</td>\n",
       "        <td>3140</td>\n",
       "        <td>18</td>\n",
       "        <td>Type C</td>\n",
       "        <td>12</td>\n",
       "        <td>6</td>\n",
       "        <td>128</td>\n",
       "        <td>29999</td>\n",
       "        <td>2020</td>\n",
       "    </tr>\n",
       "    <tr>\n",
       "        <td>10</td>\n",
       "        <td>One Fusion Plus</td>\n",
       "        <td>Motorola</td>\n",
       "        <td>5000</td>\n",
       "        <td>18</td>\n",
       "        <td>Type C</td>\n",
       "        <td>64</td>\n",
       "        <td>6</td>\n",
       "        <td>128</td>\n",
       "        <td>17499</td>\n",
       "        <td>2020</td>\n",
       "    </tr>\n",
       "    <tr>\n",
       "        <td>7</td>\n",
       "        <td>IPhone 11 Pro max</td>\n",
       "        <td>Apple</td>\n",
       "        <td>3969</td>\n",
       "        <td>18</td>\n",
       "        <td>Lighting Port</td>\n",
       "        <td>12</td>\n",
       "        <td>4</td>\n",
       "        <td>256</td>\n",
       "        <td>123899</td>\n",
       "        <td>2019</td>\n",
       "    </tr>\n",
       "</table>"
      ],
      "text/plain": [
       "[(2, 'Note 9 Pro', 'Redmi', 5020, 18, 'Type C', 48, 4, 64, 13999, 2020),\n",
       " (3, 'Oneplus Nord', 'OnePlus', 4115, 30, 'Type C', 48, 6, 64, 24999, 2020),\n",
       " (4, 'IPhone SE 2', 'Apple', 1821, 18, 'Lighting Port', 12, 3, 64, 37900, 2020),\n",
       " (1, 'Galaxy A70', 'Samsung', 4500, 25, 'Type C', 32, 6, 128, 23999, 2019),\n",
       " (5, 'Galaxy M51', 'Samsung', 7000, 25, 'Type C', 64, 6, 128, 24999, 2020),\n",
       " (6, 'ROG Phone 3', 'Asus', 6000, 30, 'Type C', 64, 8, 128, 49999, 2020),\n",
       " (8, 'Oneplus 8 Pro', 'OnePlus', 4510, 30, 'Type C', 48, 8, 128, 59999, 2020),\n",
       " (9, 'Pixel 4A', 'Google', 3140, 18, 'Type C', 12, 6, 128, 29999, 2020),\n",
       " (10, 'One Fusion Plus', 'Motorola', 5000, 18, 'Type C', 64, 6, 128, 17499, 2020),\n",
       " (7, 'IPhone 11 Pro max', 'Apple', 3969, 18, 'Lighting Port', 12, 4, 256, 123899, 2019)]"
      ]
     },
     "execution_count": 34,
     "metadata": {},
     "output_type": "execute_result"
    }
   ],
   "source": [
    "%%sql\n",
    "SELECT * FROM SmartPhoneMart ORDER BY DefaultStorage ASC;"
   ]
  },
  {
   "cell_type": "code",
   "execution_count": 35,
   "metadata": {},
   "outputs": [
    {
     "name": "stdout",
     "output_type": "stream",
     "text": [
      " * sqlite://\n",
      "Done.\n"
     ]
    },
    {
     "data": {
      "text/html": [
       "<table>\n",
       "    <tr>\n",
       "        <th>SerialNo</th>\n",
       "        <th>DeviceName</th>\n",
       "        <th>BrandName</th>\n",
       "        <th>Battery</th>\n",
       "        <th>ChargerCapacity</th>\n",
       "        <th>ChargingPort</th>\n",
       "        <th>PrimaryCamera</th>\n",
       "        <th>DefaultRAM</th>\n",
       "        <th>DefaultStorage</th>\n",
       "        <th>Price</th>\n",
       "        <th>ReleaseYear</th>\n",
       "    </tr>\n",
       "    <tr>\n",
       "        <td>5</td>\n",
       "        <td>Galaxy M51</td>\n",
       "        <td>Samsung</td>\n",
       "        <td>7000</td>\n",
       "        <td>25</td>\n",
       "        <td>Type C</td>\n",
       "        <td>64</td>\n",
       "        <td>6</td>\n",
       "        <td>128</td>\n",
       "        <td>24999</td>\n",
       "        <td>2020</td>\n",
       "    </tr>\n",
       "    <tr>\n",
       "        <td>6</td>\n",
       "        <td>ROG Phone 3</td>\n",
       "        <td>Asus</td>\n",
       "        <td>6000</td>\n",
       "        <td>30</td>\n",
       "        <td>Type C</td>\n",
       "        <td>64</td>\n",
       "        <td>8</td>\n",
       "        <td>128</td>\n",
       "        <td>49999</td>\n",
       "        <td>2020</td>\n",
       "    </tr>\n",
       "    <tr>\n",
       "        <td>2</td>\n",
       "        <td>Note 9 Pro</td>\n",
       "        <td>Redmi</td>\n",
       "        <td>5020</td>\n",
       "        <td>18</td>\n",
       "        <td>Type C</td>\n",
       "        <td>48</td>\n",
       "        <td>4</td>\n",
       "        <td>64</td>\n",
       "        <td>13999</td>\n",
       "        <td>2020</td>\n",
       "    </tr>\n",
       "    <tr>\n",
       "        <td>10</td>\n",
       "        <td>One Fusion Plus</td>\n",
       "        <td>Motorola</td>\n",
       "        <td>5000</td>\n",
       "        <td>18</td>\n",
       "        <td>Type C</td>\n",
       "        <td>64</td>\n",
       "        <td>6</td>\n",
       "        <td>128</td>\n",
       "        <td>17499</td>\n",
       "        <td>2020</td>\n",
       "    </tr>\n",
       "    <tr>\n",
       "        <td>8</td>\n",
       "        <td>Oneplus 8 Pro</td>\n",
       "        <td>OnePlus</td>\n",
       "        <td>4510</td>\n",
       "        <td>30</td>\n",
       "        <td>Type C</td>\n",
       "        <td>48</td>\n",
       "        <td>8</td>\n",
       "        <td>128</td>\n",
       "        <td>59999</td>\n",
       "        <td>2020</td>\n",
       "    </tr>\n",
       "    <tr>\n",
       "        <td>1</td>\n",
       "        <td>Galaxy A70</td>\n",
       "        <td>Samsung</td>\n",
       "        <td>4500</td>\n",
       "        <td>25</td>\n",
       "        <td>Type C</td>\n",
       "        <td>32</td>\n",
       "        <td>6</td>\n",
       "        <td>128</td>\n",
       "        <td>23999</td>\n",
       "        <td>2019</td>\n",
       "    </tr>\n",
       "    <tr>\n",
       "        <td>3</td>\n",
       "        <td>Oneplus Nord</td>\n",
       "        <td>OnePlus</td>\n",
       "        <td>4115</td>\n",
       "        <td>30</td>\n",
       "        <td>Type C</td>\n",
       "        <td>48</td>\n",
       "        <td>6</td>\n",
       "        <td>64</td>\n",
       "        <td>24999</td>\n",
       "        <td>2020</td>\n",
       "    </tr>\n",
       "    <tr>\n",
       "        <td>7</td>\n",
       "        <td>IPhone 11 Pro max</td>\n",
       "        <td>Apple</td>\n",
       "        <td>3969</td>\n",
       "        <td>18</td>\n",
       "        <td>Lighting Port</td>\n",
       "        <td>12</td>\n",
       "        <td>4</td>\n",
       "        <td>256</td>\n",
       "        <td>123899</td>\n",
       "        <td>2019</td>\n",
       "    </tr>\n",
       "    <tr>\n",
       "        <td>9</td>\n",
       "        <td>Pixel 4A</td>\n",
       "        <td>Google</td>\n",
       "        <td>3140</td>\n",
       "        <td>18</td>\n",
       "        <td>Type C</td>\n",
       "        <td>12</td>\n",
       "        <td>6</td>\n",
       "        <td>128</td>\n",
       "        <td>29999</td>\n",
       "        <td>2020</td>\n",
       "    </tr>\n",
       "    <tr>\n",
       "        <td>4</td>\n",
       "        <td>IPhone SE 2</td>\n",
       "        <td>Apple</td>\n",
       "        <td>1821</td>\n",
       "        <td>18</td>\n",
       "        <td>Lighting Port</td>\n",
       "        <td>12</td>\n",
       "        <td>3</td>\n",
       "        <td>64</td>\n",
       "        <td>37900</td>\n",
       "        <td>2020</td>\n",
       "    </tr>\n",
       "</table>"
      ],
      "text/plain": [
       "[(5, 'Galaxy M51', 'Samsung', 7000, 25, 'Type C', 64, 6, 128, 24999, 2020),\n",
       " (6, 'ROG Phone 3', 'Asus', 6000, 30, 'Type C', 64, 8, 128, 49999, 2020),\n",
       " (2, 'Note 9 Pro', 'Redmi', 5020, 18, 'Type C', 48, 4, 64, 13999, 2020),\n",
       " (10, 'One Fusion Plus', 'Motorola', 5000, 18, 'Type C', 64, 6, 128, 17499, 2020),\n",
       " (8, 'Oneplus 8 Pro', 'OnePlus', 4510, 30, 'Type C', 48, 8, 128, 59999, 2020),\n",
       " (1, 'Galaxy A70', 'Samsung', 4500, 25, 'Type C', 32, 6, 128, 23999, 2019),\n",
       " (3, 'Oneplus Nord', 'OnePlus', 4115, 30, 'Type C', 48, 6, 64, 24999, 2020),\n",
       " (7, 'IPhone 11 Pro max', 'Apple', 3969, 18, 'Lighting Port', 12, 4, 256, 123899, 2019),\n",
       " (9, 'Pixel 4A', 'Google', 3140, 18, 'Type C', 12, 6, 128, 29999, 2020),\n",
       " (4, 'IPhone SE 2', 'Apple', 1821, 18, 'Lighting Port', 12, 3, 64, 37900, 2020)]"
      ]
     },
     "execution_count": 35,
     "metadata": {},
     "output_type": "execute_result"
    }
   ],
   "source": [
    "%%sql\n",
    "SELECT * FROM SmartPhoneMart ORDER BY Battery DESC;"
   ]
  },
  {
   "cell_type": "code",
   "execution_count": 36,
   "metadata": {},
   "outputs": [],
   "source": [
    "import matplotlib.pyplot as plt\n",
    "%matplotlib inline"
   ]
  },
  {
   "cell_type": "code",
   "execution_count": 37,
   "metadata": {},
   "outputs": [
    {
     "name": "stdout",
     "output_type": "stream",
     "text": [
      " * sqlite://\n",
      "Done.\n"
     ]
    },
    {
     "data": {
      "image/png": "[encoded data removed]",
      "text/plain": [
       "<Figure size 1152x648 with 1 Axes>"
      ]
     },
     "metadata": {
      "needs_background": "light"
     },
     "output_type": "display_data"
    }
   ],
   "source": [
    "plt.figure(figsize=(16,9))\n",
    "chart = %sql SELECT BrandName, COUNT(BrandName) FROM SmartPhoneMart GROUP BY BrandName\n",
    "chart.bar();"
   ]
  },
  {
   "cell_type": "code",
   "execution_count": 38,
   "metadata": {},
   "outputs": [
    {
     "name": "stdout",
     "output_type": "stream",
     "text": [
      " * sqlite://\n",
      "Done.\n"
     ]
    },
    {
     "data": {
      "image/png": "[encoded data removed]",
      "text/plain": [
       "<Figure size 1296x432 with 1 Axes>"
      ]
     },
     "metadata": {
      "needs_background": "light"
     },
     "output_type": "display_data"
    }
   ],
   "source": [
    "plt.figure(figsize=(18,6))\n",
    "chart = %sql SELECT ChargerCapacity, COUNT(ChargerCapacity) FROM SmartPhoneMart GROUP BY ChargerCapacity\n",
    "chart.bar(color = 'purple');"
   ]
  },
  {
   "cell_type": "code",
   "execution_count": 39,
   "metadata": {},
   "outputs": [
    {
     "name": "stdout",
     "output_type": "stream",
     "text": [
      " * sqlite://\n",
      "Done.\n"
     ]
    },
    {
     "data": {
      "text/plain": [
       "[]"
      ]
     },
     "execution_count": 39,
     "metadata": {},
     "output_type": "execute_result"
    }
   ],
   "source": [
    "%%sql\n",
    "DROP TABLE SmartPhoneMart;"
   ]
  },
  {
   "cell_type": "code",
   "execution_count": 40,
   "metadata": {},
   "outputs": [
    {
     "name": "stdout",
     "output_type": "stream",
     "text": [
      " * sqlite://\n",
      "(sqlite3.OperationalError) no such table: SmartPhoneMart\n",
      "[SQL: SELECT * FROM SmartPhoneMart]\n",
      "(Background on this error at: http://sqlalche.me/e/e3q8)\n"
     ]
    }
   ],
   "source": [
    "%%sql\n",
    "SELECT * FROM SmartPhoneMart"
   ]
  },
  {
   "cell_type": "code",
   "execution_count": null,
   "metadata": {},
   "outputs": [],
   "source": []
  }
 ],
 "metadata": {
  "kernelspec": {
   "display_name": "Python 3",
   "language": "python",
   "name": "python3"
  },
  "language_info": {
   "codemirror_mode": {
    "name": "ipython",
    "version": 3
   },
   "file_extension": ".py",
   "mimetype": "text/x-python",
   "name": "python",
   "nbconvert_exporter": "python",
   "pygments_lexer": "ipython3",
   "version": "3.7.6"
  }
 },
 "nbformat": 4,
 "nbformat_minor": 4
}
